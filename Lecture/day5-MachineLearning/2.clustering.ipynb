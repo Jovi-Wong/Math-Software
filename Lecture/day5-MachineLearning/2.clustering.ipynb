{
 "cells": [
  {
   "cell_type": "markdown",
   "metadata": {},
   "source": [
    "# 5.2 聚类算法初步"
   ]
  },
  {
   "cell_type": "markdown",
   "metadata": {},
   "source": [
    "## 一、 向量间的距离/度量"
   ]
  },
  {
   "cell_type": "markdown",
   "metadata": {},
   "source": [
    "给定两个长度为$p$的向量$\\mathbf{x}_i = (x_{i1}, x_{i2}, \\cdots,x_{ip})$和 $\\mathbf{x}_j = (x_{j1}, x_{j2}, \\cdots,x_{jp})$,两者之间的距离人们往往用欧氏距离来进行度量：\n",
    "$$ d \\left( {{x_i},{x_j}} \\right) = \\left[ \\sum\\limits_{k = 1}^p (x_{ik} - x_{jk})^2 \\right]^{\\frac{1}{2}} $$"
   ]
  },
  {
   "cell_type": "markdown",
   "metadata": {},
   "source": [
    "**向量距离**的概念在**机器学习**中有重要应用："
   ]
  },
  {
   "cell_type": "markdown",
   "metadata": {},
   "source": [
    "### K-近邻(K-Nearest Neighbour, KNN)\n",
    "即是给定一个训练数据集，对新的输入实例，在训练数据集中找到与该实例最邻近的K个实例，这K个实例的多数属于某个类，就把该输入实例分类到这个类中。这就类似于现实生活中少数服从多数的思想!"
   ]
  },
  {
   "cell_type": "markdown",
   "metadata": {},
   "source": [
    "- **K=3（三局两胜，红），还是 K=5（五局三胜，蓝）?**\n",
    "\n",
    "让我们先来看下引自维基百科上的一幅图: \n",
    "![avatar](figs/knnalg.png)\n",
    "\n",
    "#### 样本数据分两类: \n",
    "##### * 蓝色的小正方形\n",
    "##### * 红色的小三角形\n",
    "#### 待分类数据\n",
    "#####  绿色的圆 ? (少数服从多数)"
   ]
  },
  {
   "cell_type": "markdown",
   "metadata": {},
   "source": [
    " - **归一化的作用**"
   ]
  },
  {
   "cell_type": "markdown",
   "metadata": {},
   "source": [
    "例：一个人身高(cm)与脚码（尺码）大小来作为特征值，类别为男性或者女性。我们现在如果有5个训练样本，分布如下：\n",
    "\n",
    "  A [(179,42), 男]  \n",
    "  \n",
    "  B [(178,43), 男] \n",
    "  \n",
    "  C [(165,36), 女] \n",
    "  \n",
    "  D [(177,42), 男]  \n",
    "  \n",
    "  E [(160,35), 女]\n",
    "  \n",
    "  现在给定一个待测样本 **F(167,43)** ，问他是男性还是女性？ "
   ]
  },
  {
   "cell_type": "code",
   "execution_count": 60,
   "metadata": {},
   "outputs": [
    {
     "name": "stdout",
     "output_type": "stream",
     "text": [
      "X =\n",
      "\n",
      "   179    42\n",
      "   178    43\n",
      "   165    36\n",
      "   177    42\n",
      "   160    35\n",
      "\n",
      "label =\n",
      "\n",
      "   1\n",
      "   1\n",
      "   0\n",
      "   1\n",
      "   0\n",
      "\n"
     ]
    }
   ],
   "source": [
    "X = [179, 42; 178,43; 165,36; 177, 42; 160,35]\n",
    "label = [1,1,0,1,0]'"
   ]
  },
  {
   "cell_type": "markdown",
   "metadata": {},
   "source": [
    "注意到第一维身高特征是第二维脚码特征的4倍左右，那么在进行距离度量的时候，我们就会偏向于第一维特征。 这里，我们取$k=3$来预测：\n",
    "\n",
    "![avatar](figs/knnalg2.png)"
   ]
  },
  {
   "cell_type": "code",
   "execution_count": null,
   "metadata": {},
   "outputs": [],
   "source": [
    "Y = [167.0, 43.0];\n",
    "dist = sqrt( ((X(:,1)-Y(1)).*(X(:,1)-Y(1))) +  ((X(:,2)-Y(2)).*(X(:,2)-Y(2))) );"
   ]
  },
  {
   "cell_type": "markdown",
   "metadata": {},
   "source": [
    " - 由计算可以得到，最近的前三个分别是C,D,E三个样本，那么由C,E为女性，D为男性，女性多于男性得到我们要预测的结果为女性!\n",
    " - **一个女性的脚43码的可能性，远远小于男性脚43码的可能性，那么为什么算法还是会预测F为女性呢？那是因为由于各个特征量纲的不同，在这里导致了身高的重要性已经远远大于脚码了，这是不客观的**"
   ]
  },
  {
   "cell_type": "markdown",
   "metadata": {},
   "source": [
    "**改进：Each Feature Matters!**"
   ]
  },
  {
   "cell_type": "markdown",
   "metadata": {},
   "source": [
    "### 假设样本特征为 $\\{(x_{i1}, x_{x2}, ..., x_{im})\\}_{i=1}^{m} $, 每个特征的最值为:\n",
    "$$ M_{j} = \\max_{i=1,2,...m} x_{ij}  - \\min_{i=1,2,...,m} x_{ij}$$\n",
    "则在计算时, 将每个特征除以对应的 $M_{j}$ , 来进行归一化, 即\n",
    "$$ d(X, Y)  = \\sqrt{\\sum_{j=1}^{m}\\bigg(\\frac{X_j - Y_j}{M_j}\\bigg)^2} $$"
   ]
  },
  {
   "cell_type": "code",
   "execution_count": 61,
   "metadata": {},
   "outputs": [
    {
     "name": "stdout",
     "output_type": "stream",
     "text": [
      "M1 =  19\n",
      "M2 =  8\n"
     ]
    }
   ],
   "source": [
    "M1 = max(X(:,1)) - min(X(:,1))\n",
    "M2 = max(X(:,2)) - min(X(:,2))"
   ]
  },
  {
   "cell_type": "code",
   "execution_count": 62,
   "metadata": {},
   "outputs": [
    {
     "name": "stdout",
     "output_type": "stream",
     "text": [
      "ans =\n",
      "\n",
      "   12.04159    0.64383    1.00000\n",
      "   11.00000    0.57895    1.00000\n",
      "    7.28011    0.88131    0.00000\n",
      "   10.04988    0.54096    1.00000\n",
      "   10.63015    1.06571    0.00000\n",
      "\n"
     ]
    }
   ],
   "source": [
    "dist_norm = sqrt( ((X(:,1)-Y(1)).*(X(:,1)-Y(1)))/M1/M1 +  ((X(:,2)-Y(2)).*(X(:,2)-Y(2)))/M2/M2 );\n",
    "[dist, dist_norm, label]"
   ]
  },
  {
   "cell_type": "markdown",
   "metadata": {},
   "source": [
    " - 由第1列结果取最小的K=3个选项，为3-5行，两个0一个1，故判断结果为0，即女性\n",
    " - 由第2列结果取最小的K=3个选项，为2-4行，两个1一个0，故判断结果为1，即男性"
   ]
  },
  {
   "cell_type": "markdown",
   "metadata": {},
   "source": [
    "#### 其算法的描述为：\n",
    "\n",
    "- 计算测试数据与各个训练数据之间的距离；\n",
    "\n",
    "- 按照距离的递增关系进行排序；\n",
    "\n",
    "- 选取距离最小的K个点；\n",
    "\n",
    "- 确定前K个点所在类别的出现频率；\n",
    "\n",
    "- 返回前K个点中出现频率最高的类别作为测试数据的预测分类。"
   ]
  },
  {
   "cell_type": "code",
   "execution_count": null,
   "metadata": {},
   "outputs": [],
   "source": []
  },
  {
   "cell_type": "markdown",
   "metadata": {},
   "source": [
    "事实上，向量间举例的常用度量还有其他很多形式，如："
   ]
  },
  {
   "cell_type": "markdown",
   "metadata": {},
   "source": [
    "（2）\t绝对距离\n",
    "$$ d\\left( {{x_i},{x_j}} \\right) = \\sum\\limits_{k = 1}^p {\\left| {{x_{ik}} - {x_{jk}}} \\right|} $$ \n",
    "（3）\t闵氏距离\n",
    "$$ d\\left( {{x_i},{x_j}} \\right) = \\left[ \\sum\\limits_{k = 1}^p \\left| x_{ik} - x_{jk} \\right| ^m \\right]^{\\frac{1}{m}}$$\n",
    "（4）\t切氏距离\n",
    "$$ d\\left( {{x_i},{x_j}} \\right) = \\max \\limits_{1 \\le k \\le p} \\left| x_{ik} - x_{jk} \\right| $$\n",
    "（5）\t方差加权距离\n",
    "$$ d\\left( {{x_i},{x_j}} \\right) = \\left[ \\sum\\limits_{k = 1}^p ({x_{ik}} - {x_{jk}})^2/s_k^2 \\right]^{\\frac{1}{2}},\\qquad\n",
    " s_k^2 = \\frac{1}{{n - 1}}{\\sum\\limits_{j = 1}^n {({x_{jk}} - \\overline {{x_k}} )} ^2},\\overline {{x_k}}  = \\frac{1}{n}\\sum\\limits_{j = 1}^n {{x_{jk}}} $$\n",
    "（6）\t马氏距离\n",
    "$$ d\\left( {{x_i},{x_j}} \\right) = {\\left( {{x_i} - {x_j}} \\right)^T}\\Sigma^{ - 1} {\\left( {{x_i} - {x_j}} \\right)} $$"
   ]
  },
  {
   "cell_type": "markdown",
   "metadata": {},
   "source": [
    "此外，还有“余弦相似度”等以角度计算的度量，在推荐算法中也被经常适用。 在Octave中，计算距离的命令是pdist，调用格式为：\n",
    "\n",
    " Y = pdist(X,distance)\n",
    "\n",
    "可选的distance有：euclidean（欧氏距离）；cityblock（绝对距离）；minkowski（闵氏距离）；chebychev（切氏距离）；seuclidean（方差加权距离）；mahalanobis（马氏距离）等，在聚类分析中最常用的是欧氏距离。"
   ]
  },
  {
   "cell_type": "code",
   "execution_count": 3,
   "metadata": {},
   "outputs": [],
   "source": [
    "pkg load statistics"
   ]
  },
  {
   "cell_type": "code",
   "execution_count": 4,
   "metadata": {},
   "outputs": [
    {
     "name": "stdout",
     "output_type": "stream",
     "text": [
      "error: Invalid call to pdist.  Correct usage is:\n",
      "\n",
      " -- Function File: Y = pdist (X)\n",
      " -- Function File: Y = pdist (X, METRIC)\n",
      " -- Function File: Y = pdist (X, METRIC, METRICARG, ...)\n",
      "\n",
      "Additional help for built-in functions and operators is\n",
      "available in the online version of the manual.  Use the command\n",
      "'doc <topic>' to search the manual index.\n",
      "\n",
      "Help and information about Octave is also available on the WWW\n",
      "at http://www.octave.org and via the help@octave.org\n",
      "mailing list.\n"
     ]
    }
   ],
   "source": [
    "pdist"
   ]
  },
  {
   "cell_type": "markdown",
   "metadata": {},
   "source": [
    "例1：  2008年我国5省、区、市城镇居民人均年家庭收入见表，为了研究上述5省、区、市城镇居民收入差异，需要利用统计资料对其进行分类，指标变量有4个，计算各省、区、市之间的前6中距离。\n",
    "\\begin{array}{ccccc}\n",
    "省（市、区） & 工薪收入 & 经营净收入 & 财产性收入 & 转移性收入\\\\ \n",
    "北京 \t&18738.96，&\t778.36&452.75&7707.87\\\\\n",
    "上海\t&21791.11\t&1399.14\t&369.12\t&6199.77 \\\\\n",
    "安徽\t&9302.38\t&959.43\t&293.92&\t3603.72 \\\\\n",
    "陕西\t&8354.63\t&638.76\t&65.33\t&2610.61 \\\\\n",
    "新疆\t&9422.22\t&938.15\t&141.75&\t1976.49 \\\\\n",
    "\\end{array}"
   ]
  },
  {
   "cell_type": "code",
   "execution_count": 6,
   "metadata": {},
   "outputs": [],
   "source": [
    "x=[18738.96  778.36    452.75  7707.87; ...\n",
    "   21791.11   1399.14   369.12   6199.77; ...\n",
    "   9302.38   959.43   293.92   3603.72; ...\n",
    "   8354.63   638.76  65.33  2610.61; ...\n",
    "   9422.22    938.15   141.75   1976.49];"
   ]
  },
  {
   "cell_type": "code",
   "execution_count": 7,
   "metadata": {},
   "outputs": [
    {
     "name": "stdout",
     "output_type": "stream",
     "text": [
      "d1 =\n",
      "\n",
      " Columns 1 through 6:\n",
      "\n",
      "   3.4616e+03   1.0293e+04   1.1575e+04   1.0944e+04   1.2763e+04   1.3932e+04\n",
      "\n",
      " Columns 7 through 10:\n",
      "\n",
      "   1.3080e+04   1.4281e+03   1.6389e+03   1.2796e+03\n",
      "\n"
     ]
    }
   ],
   "source": [
    "d1 = pdist(x)   % default option is 'Euclidean'"
   ]
  },
  {
   "cell_type": "code",
   "execution_count": 10,
   "metadata": {},
   "outputs": [
    {
     "name": "stdout",
     "output_type": "stream",
     "text": [
      "d2 =\n",
      "\n",
      " Columns 1 through 6:\n",
      "\n",
      "   3.4616e+03   1.0293e+04   1.1575e+04   1.0944e+04   1.2763e+04   1.3932e+04\n",
      "\n",
      " Columns 7 through 10:\n",
      "\n",
      "   1.3080e+04   1.4281e+03   1.6389e+03   1.2796e+03\n",
      "\n"
     ]
    }
   ],
   "source": [
    "d2 = pdist(x,'minkowski')   % try 'cityblock','minkowski', 'chebychev','seuclidean' and 'mahalanobis'"
   ]
  },
  {
   "cell_type": "code",
   "execution_count": null,
   "metadata": {},
   "outputs": [],
   "source": []
  },
  {
   "cell_type": "markdown",
   "metadata": {},
   "source": [
    "## 二、聚类"
   ]
  },
  {
   "cell_type": "markdown",
   "metadata": {},
   "source": [
    "### 2.1 谱系聚类\n",
    "谱系聚类是根据生物分类学的思想对研究对象进行分类的方法。谱系聚类首先将每个样品看成一类，然后把最相似的的样品聚为小类，再将已聚合的小类按各类之间的相似性进行在聚合，随着相似性的减弱，最后将一切子类聚为一大类，从而得到一个按相似性大小聚结起来的谱系图。具体实施步骤如下："
   ]
  },
  {
   "cell_type": "markdown",
   "metadata": {},
   "source": [
    "（1） $n$ 个样品开始作为\t$n$ 个类，计算两两之间的距离或相似系数，得到实对称矩阵 \n",
    "$$ {D_0} = \\left( {\\begin{array}{*{20}{c}}\n",
    "{{d_{11}}}& \\ldots &{{d_{1n}}}\\\\\n",
    " \\vdots & \\ddots & \\vdots \\\\\n",
    "{{d_{n1}}}& \\cdots &{{d_{nn}}}\n",
    "\\end{array}} \\right) $$"
   ]
  },
  {
   "cell_type": "markdown",
   "metadata": {},
   "source": [
    "（2）\t从${D_0}$ 的非主对角线上找最小距离或最大相似系数，设该元素是${D_pq}$ ，则将${G_p},{G_q}$合并成一个新类${G_r} = \\left( {{G_p},{G_q}} \\right)$ ，在${D_0}$ 中去掉${G_p},{G_q}$ 所在的两行、两列，并加上新类${G_r}$ 与其各类之间的距离或相似系数，得到 $n-1$ 阶矩阵${D_1}$"
   ]
  },
  {
   "cell_type": "markdown",
   "metadata": {},
   "source": [
    "（3）\t从${D_1}$ 出发重复步骤2）的做法得到${D_2}$ ，再由${D_2}$ 出发重复上述步骤，直到全部样品聚为一个大类为止。"
   ]
  },
  {
   "cell_type": "markdown",
   "metadata": {},
   "source": [
    "（4）在合并过程中要记下合并样品的编号及两类合并时的水平，并绘制谱系聚类图。在Octave中：\n",
    "\n",
    "    谱系聚类命令为linkage,其调用格式为：  Z=linkage(Y,method)， 其中输入Y是一个距离矩阵，可由pdist()计算得到\n",
    "\n",
    "    做谱系聚类图命令为dendrogram,其调用格式为：H=dendrogram(Z,N)\n",
    "\n",
    "    输出聚类结果命令为cluster, 其调用格式为：T=cluster(Z,K)   %% 这个在Octave中尚未实现，参考help cluster"
   ]
  },
  {
   "cell_type": "markdown",
   "metadata": {},
   "source": [
    "例2：利用谱系聚类对例1中的5个省、区、市进行聚类分析。  "
   ]
  },
  {
   "cell_type": "markdown",
   "metadata": {},
   "source": [
    "解："
   ]
  },
  {
   "cell_type": "code",
   "execution_count": 23,
   "metadata": {},
   "outputs": [
    {
     "name": "stdout",
     "output_type": "stream",
     "text": [
      "d =\n",
      "\n",
      " Columns 1 through 6:\n",
      "\n",
      "   3.4616e+03   1.0293e+04   1.1575e+04   1.0944e+04   1.2763e+04   1.3932e+04\n",
      "\n",
      " Columns 7 through 10:\n",
      "\n",
      "   1.3080e+04   1.4281e+03   1.6389e+03   1.2796e+03\n",
      "\n"
     ]
    }
   ],
   "source": [
    "%%% 注意：矩阵输入也可以这样子！！\n",
    "x=[18738.96  778.36    452.75  7707.87\n",
    "   21791.11   1399.14   369.12   6199.77\n",
    "   9302.38   959.43   293.92   3603.72\n",
    "   8354.63   638.76  65.33  2610.61\n",
    "   9422.22    938.15   141.75   1976.49];\n",
    "d = pdist(x);"
   ]
  },
  {
   "cell_type": "code",
   "execution_count": 19,
   "metadata": {},
   "outputs": [
    {
     "name": "stdout",
     "output_type": "stream",
     "text": [
      "z1 =\n",
      "\n",
      "   4.0000e+00   5.0000e+00   1.2796e+03\n",
      "   3.0000e+00   6.0000e+00   1.4281e+03\n",
      "   1.0000e+00   2.0000e+00   3.4616e+03\n",
      "   7.0000e+00   8.0000e+00   1.0293e+04\n",
      "\n"
     ]
    }
   ],
   "source": [
    "z1 = linkage(d)    "
   ]
  },
  {
   "cell_type": "markdown",
   "metadata": {},
   "source": [
    "上述输出表明：在0.12796的水平下，第4和第5行可以合成第一类/行, ... 每一行都是如此。"
   ]
  },
  {
   "cell_type": "code",
   "execution_count": 20,
   "metadata": {},
   "outputs": [
    {
     "name": "stdout",
     "output_type": "stream",
     "text": [
      "H =\n",
      "\n",
      "   2.0000e+00   0.0000e+00\n",
      "   1.0000e+00   0.0000e+00\n",
      "   5.0000e+00   0.0000e+00\n",
      "   4.0000e+00   0.0000e+00\n",
      "   3.0000e+00   0.0000e+00\n",
      "   3.5000e+00   1.2796e+03\n",
      "   4.2500e+00   1.4281e+03\n",
      "   1.5000e+00   3.4616e+03\n",
      "   2.8750e+00   1.0293e+04\n",
      "\n"
     ]
    },
    {
     "data": {
      "image/png": "[encoded data removed]",
      "text/plain": [
       "<IPython.core.display.Image object>"
      ]
     },
     "metadata": {},
     "output_type": "display_data"
    }
   ],
   "source": [
    "H = dendrogram(z1)"
   ]
  },
  {
   "cell_type": "code",
   "execution_count": 17,
   "metadata": {},
   "outputs": [
    {
     "name": "stdout",
     "output_type": "stream",
     "text": [
      "error: help: the 'cluster' function belongs to the statistics package from Octave\n",
      "Forge but has not yet been implemented.\n",
      "\n",
      "Please read <http://www.octave.org/missing.html> to learn how you can\n",
      "contribute missing functionality.\n"
     ]
    }
   ],
   "source": [
    "help cluster"
   ]
  },
  {
   "cell_type": "code",
   "execution_count": null,
   "metadata": {},
   "outputs": [],
   "source": []
  },
  {
   "cell_type": "markdown",
   "metadata": {},
   "source": [
    "### 2.2 K均值聚类"
   ]
  },
  {
   "cell_type": "markdown",
   "metadata": {},
   "source": [
    "K均值(K-means)聚类是最著名的划分聚类算法，给定一个数据点集合和需要的聚类数目K，K由用户指定，K均值算法根据某个距离函数反复把数据分入K个聚类中。 在运用K均值聚类法之前，要根据实际问题先确定分类数 ，在每一类中选择有代表性的样品，这样的样品称为聚点。"
   ]
  },
  {
   "cell_type": "markdown",
   "metadata": {},
   "source": [
    "若将$n$个样品分为$k$ 类，则先选择所有样品中距离最远的两个样品${x_{i1}},{x_{i2}}$ 为聚点，使得\n",
    "$$ d\\left( {{x_{i1}},{x_{i2}}} \\right) = {d_{i1i2}} = \\max \\left\\{ {{d_{ij}}} \\right\\}$$\n",
    "然后选择第3个聚点${x_{i3}}$ ，使得${x_{i3}}$ 与前两个聚点的距离最小者等于所有其余的与${x_{i1}},{x_{i2}}$ 的较小距离中最大的，即\n",
    "$$ \\min \\left\\{ {d\\left( {{x_{i3}},{x_{ir}}} \\right),r = 1,2} \\right\\} = \\max \\left\\{ {\\min \\left\\{ {d\\left( {{x_j},{x_{ir}}} \\right),r = 1,2} \\right\\},j \\ne i1,i2} \\right\\}$$\n",
    "最后按相同的原则选取${x_{ik}}$ ，重复前面的步骤，直至确定$k$ 个聚点${x_{i1}},{x_{i2}},...{x_{ik}}$ 。"
   ]
  },
  {
   "cell_type": "markdown",
   "metadata": {},
   "source": [
    "K均值聚类的步骤（样品之间的距离采用欧氏距离）如下："
   ]
  },
  {
   "cell_type": "markdown",
   "metadata": {},
   "source": [
    "（1）设第 个初始聚点的集合是\n",
    "$$ {L^{\\left( 0 \\right)}} = \\left\\{ {x_1^{\\left( 0 \\right)},x_2^{\\left( 0 \\right)},...,x_k^{\\left( 0 \\right)}} \\right\\}$$\n",
    "记\n",
    "$$ G_i^{\\left( 0 \\right)} = \\left\\{ {x:d\\left( {x,x_i^{\\left( 0 \\right)}} \\right) \\le d\\left( {x,x_j^{\\left( 0 \\right)}} \\right),j = 1,2,...,k,j \\ne i} \\right\\}\\left( {i = 1,2,...,k} \\right)$$ \n",
    "于是，将样品分成不相交的$k$ 类，得到一个初始分类\n",
    "$$ {G^{\\left( 0 \\right)}} = \\left\\{ {G_1^{\\left( 0 \\right)},G_2^{\\left( 0 \\right)},...,G_k^{\\left( 0 \\right)}} \\right\\}$$"
   ]
  },
  {
   "cell_type": "markdown",
   "metadata": {},
   "source": [
    "（2）从初始类${G^{\\left( 0 \\right)}}$ 开始计算新的聚点集合${L^{\\left( 1 \\right)}}$ ，计算\n",
    "$$ x_i^{\\left( 1 \\right)} = \\frac{1}{{{n_i}}}\\sum\\limits_{{x_l} \\in G_i^{\\left( 0 \\right)}} {{x_l}} \\left( {i = 1,2,...,k} \\right)$$ \n",
    "其中$n_i$ 是类${G^{\\left( 0 \\right)}}$ 中的样品数，得到一个新的集合\n",
    "$${L^{\\left( 1 \\right)}} = \\left\\{ {x_1^{\\left( 1 \\right)},x_2^{\\left( 1 \\right)},...,x_k^{\\left( 1 \\right)}} \\right\\}$$\n",
    "从 ${L^{\\left( 1 \\right)}}$ 开始再进行分类，记\n",
    "$$G_i^{\\left( 1 \\right)} = \\left\\{ {x:d\\left( {x,x_i^{\\left( 1 \\right)}} \\right) \\le d\\left( {x,x_j^{\\left( 1 \\right)}} \\right),j = 1,2,...,k,j \\ne i} \\right\\}\\left( {i = 1,2,...,k} \\right)$$ \n",
    "得到一个新的类\n",
    "$${G^{\\left( 1 \\right)}} = \\left\\{ {G_1^{\\left( 1 \\right)},G_2^{\\left( 1 \\right)},...,G_k^{\\left( 1 \\right)}} \\right\\}$$"
   ]
  },
  {
   "cell_type": "markdown",
   "metadata": {},
   "source": [
    "（3） 重复上述步骤$m$ 次得\n",
    "$$ {G^{\\left( m \\right)}} = \\left\\{ {G_1^{\\left( m \\right)},G_2^{\\left( m \\right)},...,G_k^{\\left( m \\right)}} \\right\\} $$ \n",
    "其中$x_i^{\\left( m \\right)}$ 是类$G_i^{\\left( {m - 1} \\right)}$ 的重心。$x_i^{\\left( m \\right)}$ 不一定是样品。当 $m$ 逐渐增大时，分类趋于稳定。同时 $x_i^{\\left( m \\right)}$可以近似地看作是$G_i^{\\left( {m } \\right)}$ 的重心，即\n",
    "$$ x_i^{\\left( {m + 1} \\right)} \\approx x_i^{\\left( m \\right)},G_i^{\\left( {m + 1} \\right)} \\approx G_i^{\\left( m \\right)}$$\n",
    "此时结束计算。"
   ]
  },
  {
   "cell_type": "markdown",
   "metadata": {},
   "source": [
    "（4）若对某一个$m$ ，\n",
    "$${G^{\\left( {m + 1} \\right)}} = \\left\\{ {G_1^{\\left( {m + 1} \\right)},G_2^{\\left( {m + 1} \\right)},...,G_k^{\\left( {m + 1} \\right)}} \\right\\}$$\n",
    "与\n",
    "$${G^{\\left( m \\right)}} = \\left\\{ {G_1^{\\left( m \\right)},G_2^{\\left( m \\right)},...,G_k^{\\left( m \\right)}} \\right\\}$$\n",
    "相同，则结束计算。"
   ]
  },
  {
   "cell_type": "code",
   "execution_count": null,
   "metadata": {},
   "outputs": [],
   "source": []
  },
  {
   "cell_type": "markdown",
   "metadata": {},
   "source": [
    "#### K均值聚类步骤概要\n",
    "\n",
    "目标：给定一个数据集,根据某个\\alert{距离函数}把数据分成K类。步骤：\n",
    " - 需事先确定分类数，并选择有代表性的**聚点**\n",
    " - 选择所有样品中距离最远的两个样品${x_{i1}},{x_{i2}}$ 为聚点，使得\n",
    "   $$ d\\left( {{x_{i1}},{x_{i2}}} \\right) = {d_{i1i2}} = \\max \\left\\{ {{d_{ij}}} \\right\\} $$\n",
    " - 选择第3个聚点${x_{i3}}$ ，使得${x_{i3}}$ 与前两个聚点的距离最小者等于所有其余的与${x_{i1}},{x_{i2}}$ 满足较小距离最大化:\n",
    "    $$ \\max \\left\\{ {\\min \\left\\{ {d\\left( {{x_j},{x_{ir}}} \\right),r = 1,2} \\right\\},j \\ne i1,i2} \\right\\} $$\n",
    " - 按相同的原则选取${x_{ik}}$ ，重复步骤直至确定$k$个聚点${x_{i1}},{x_{i2}},...{x_{ik}}$ "
   ]
  },
  {
   "cell_type": "code",
   "execution_count": null,
   "metadata": {},
   "outputs": [],
   "source": []
  },
  {
   "cell_type": "code",
   "execution_count": null,
   "metadata": {},
   "outputs": [],
   "source": []
  },
  {
   "cell_type": "code",
   "execution_count": null,
   "metadata": {},
   "outputs": [],
   "source": []
  },
  {
   "cell_type": "markdown",
   "metadata": {},
   "source": [
    "Octave中实现K均值聚类的命令是kmeans，其调用格式为："
   ]
  },
  {
   "cell_type": "code",
   "execution_count": null,
   "metadata": {},
   "outputs": [],
   "source": [
    "help kmeans"
   ]
  },
  {
   "cell_type": "code",
   "execution_count": null,
   "metadata": {},
   "outputs": [],
   "source": []
  },
  {
   "cell_type": "markdown",
   "metadata": {},
   "source": [
    "例3：利用K均值聚类再根据例1中5个省、区、市的相关数据，对他们进行聚类分析。"
   ]
  },
  {
   "cell_type": "code",
   "execution_count": 29,
   "metadata": {},
   "outputs": [],
   "source": [
    "x = [18738.96    778.36    452.75   7707.87\n",
    "     21791.11   1399.14    369.12   6199.77   \n",
    "      9302.38    959.43    293.92   3603.72   \n",
    "      9794.82    544       151.46   3356.85   \n",
    "      9422.22    938.15    141.75   1976.49];"
   ]
  },
  {
   "cell_type": "code",
   "execution_count": 30,
   "metadata": {},
   "outputs": [
    {
     "name": "stdout",
     "output_type": "stream",
     "text": [
      "a =\n",
      "\n",
      "   2\n",
      "   3\n",
      "   1\n",
      "   1\n",
      "   1\n",
      "\n",
      "b =\n",
      "\n",
      "   9.5065e+03   8.1386e+02   1.9571e+02   2.9790e+03\n",
      "   1.8739e+04   7.7836e+02   4.5275e+02   7.7079e+03\n",
      "   2.1791e+04   1.3991e+03   3.6912e+02   6.1998e+03\n",
      "\n"
     ]
    }
   ],
   "source": [
    " [a,b] = kmeans(x,3)"
   ]
  },
  {
   "cell_type": "code",
   "execution_count": null,
   "metadata": {},
   "outputs": [],
   "source": []
  },
  {
   "cell_type": "markdown",
   "metadata": {},
   "source": [
    "### 三、 案例研究：利用K-means实施图像分割"
   ]
  },
  {
   "cell_type": "markdown",
   "metadata": {},
   "source": [
    "如下是一个针对图像数据I像素的K-means计算程序，请阅读："
   ]
  },
  {
   "cell_type": "code",
   "execution_count": 1,
   "metadata": {},
   "outputs": [],
   "source": [
    "function [F,C] = imkmeans(I,C)\n",
    "if nargin~=2\n",
    "    error('只能有两个输入参数');\n",
    "end\n",
    "if isempty(C)\n",
    "    K=2;\n",
    "    C=[];\n",
    "elseif isscalar(C)\n",
    "    K=C;\n",
    "    C=[];\n",
    "else\n",
    "    K=size(C,1);\n",
    "end\n",
    "X = exactvecotr(I);\n",
    "if isempty(C)\n",
    "    C = searchintial(X,'sample',K);\n",
    "end\n",
    "Cprev=rand(size(C));\n",
    "while true\n",
    "    D = sampledist(X,C,'euclidean');\n",
    "    [~,locs]=min(D,[],2);\n",
    "    for i=1:K\n",
    "        C(i,:)=mean(X(locs==i,:),1);\n",
    "    end\n",
    "    if norm(C(:)-Cprev(:))<eps\n",
    "        break\n",
    "    end\n",
    "    Cprev=C;\n",
    "end\n",
    "[m,n,~]=size(I);\n",
    "F=reshape(locs,[m,n]);\n",
    "endfunction"
   ]
  },
  {
   "cell_type": "code",
   "execution_count": 2,
   "metadata": {},
   "outputs": [],
   "source": [
    "function vec = exactvecotr(img)\n",
    "[m,n,~] = size(img);\n",
    "vec=zeros(m*n,3);\n",
    "img=double(img);\n",
    "for j=1:n\n",
    "    for i=1:m\n",
    "        color=img(i,j,:);\n",
    "        wx=1;wy=1;\n",
    "        dist=[wx*j/n,wy*i/m];\n",
    "        dist=[];\n",
    "        texture=[];\n",
    "        vec((j-1)*m+i,:)=[color(:);dist(:);texture(:)];\n",
    "    end\n",
    "end\n",
    "endfunction"
   ]
  },
  {
   "cell_type": "code",
   "execution_count": 3,
   "metadata": {},
   "outputs": [],
   "source": [
    "function C = searchintial(X,method,varargin)\n",
    "switch lower(method(1))\n",
    "    case 's'\n",
    "        K=varargin{1};\n",
    "        C=X(randsample(size(X,1),K),:);\n",
    "    case 'u'\n",
    "        Xmins=min(X,[],1);\n",
    "        Xmaxs=max(X,[],1);\n",
    "        K=varargin{1};\n",
    "        C=unifrnd(Xmins(ones(K,1),:),Xmaxs(ones(K,1),:));\n",
    "end\n",
    "endfunction"
   ]
  },
  {
   "cell_type": "code",
   "execution_count": 4,
   "metadata": {},
   "outputs": [],
   "source": [
    "function D=sampledist(X,C,method,varargin)\n",
    "[n,p]=size(X);\n",
    "K=size(C,1);\n",
    "D=zeros(n,K);\n",
    "switch lower(method(1))\n",
    "    case 'e'\n",
    "        for i =1:K\n",
    "            D(:,i)=(X(:,1)-C(i,1)).^2;\n",
    "            for j=2:p\n",
    "                D(:,i)=D(:,i)+(X(:,j)-C(i,j)).^2;\n",
    "            end\n",
    "        end\n",
    "    case 'c'\n",
    "        for i=1:K\n",
    "            D(:,i)=abs(X(:,1)-C(i,1));\n",
    "            for j=2:p\n",
    "                D(:,i)=D(:,i)+abs(X(:,j)-C(i,j));\n",
    "            end\n",
    "        end\n",
    "end\n",
    "endfunction"
   ]
  },
  {
   "cell_type": "markdown",
   "metadata": {},
   "source": [
    "主程序："
   ]
  },
  {
   "cell_type": "code",
   "execution_count": 6,
   "metadata": {},
   "outputs": [],
   "source": [
    "pkg load statistics"
   ]
  },
  {
   "cell_type": "code",
   "execution_count": 9,
   "metadata": {},
   "outputs": [
    {
     "data": {
      "image/png": "[encoded data removed]",
      "text/plain": [
       "<IPython.core.display.Image object>"
      ]
     },
     "metadata": {},
     "output_type": "display_data"
    }
   ],
   "source": [
    "I=imread('figs/lena.jpg');\n",
    "I=double(I)/255;\n",
    "figure;subplot(2,3,1)\n",
    "imshow(I)\n",
    "title('original figure')\n",
    "for i=6:10\n",
    "    F = imkmeans(I,i);\n",
    "    subplot(2,3,i-4);\n",
    "    imshow(F,[]);\n",
    "    title(['K = ',num2str(i)])\n",
    "end\n",
    "print -dpng lena-clustering.png "
   ]
  },
  {
   "cell_type": "markdown",
   "metadata": {},
   "source": [
    "**练习**：请用matlab或octave重新绘制不同K值结果图（Jupyter中并不是太清晰），并将算法学习笔记和程序以及结果记录在文档中。"
   ]
  },
  {
   "cell_type": "code",
   "execution_count": null,
   "metadata": {},
   "outputs": [],
   "source": []
  }
 ],
 "metadata": {
  "kernelspec": {
   "display_name": "Octave",
   "language": "octave",
   "name": "octave"
  },
  "language_info": {
   "file_extension": ".m",
   "help_links": [
    {
     "text": "GNU Octave",
     "url": "https://www.gnu.org/software/octave/support.html"
    },
    {
     "text": "Octave Kernel",
     "url": "https://github.com/Calysto/octave_kernel"
    },
    {
     "text": "MetaKernel Magics",
     "url": "https://metakernel.readthedocs.io/en/latest/source/README.html"
    }
   ],
   "mimetype": "text/x-octave",
   "name": "octave",
   "version": "5.2.0"
  }
 },
 "nbformat": 4,
 "nbformat_minor": 4
}
